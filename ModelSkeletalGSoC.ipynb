{
 "cells": [
  {
   "cell_type": "code",
   "execution_count": 1,
   "metadata": {},
   "outputs": [],
   "source": [
    "import tensorflow as tf\n",
    "import cv2 \n",
    "import numpy as np\n",
    "from tensorflow.keras import datasets, layers, models\n",
    "import matplotlib.pyplot as plt\n",
    "import os\n",
    "import random\n",
    "#%matplotlib inline"
   ]
  },
  {
   "cell_type": "code",
   "execution_count": null,
   "metadata": {},
   "outputs": [],
   "source": [
    "##Load Image Create Dataset"
   ]
  },
  {
   "cell_type": "code",
   "execution_count": null,
   "metadata": {},
   "outputs": [],
   "source": [
    "#%%bash\n",
    "#sh ./*.sh\n",
    "\n",
    "#INSERT HELPER SCRIPTS HERE"
   ]
  },
  {
   "cell_type": "code",
   "execution_count": null,
   "metadata": {},
   "outputs": [],
   "source": [
    "imgDirNorm = './Normal/'\n",
    "imgDirAnom = './Anomaly/'"
   ]
  },
  {
   "cell_type": "code",
   "execution_count": null,
   "metadata": {},
   "outputs": [],
   "source": [
    "def load_images_from_folder(folder):\n",
    "    images = []\n",
    "    for filename in os.listdir(folder):\n",
    "        img = cv2.imread(os.path.join(folder,filename),0)\n",
    "        if img is not None:\n",
    "            images.append(img)\n",
    "    return images"
   ]
  },
  {
   "cell_type": "code",
   "execution_count": null,
   "metadata": {},
   "outputs": [],
   "source": [
    "def imrotate(img , angle , scale=1):\n",
    "    (h, w) = img.shape\n",
    "    center = (w / 2, h / 2)\n",
    "    M = cv2.getRotationMatrix2D(center, angle, scale)\n",
    "    return cv2.warpAffine(img, M, (h, w))"
   ]
  },
  {
   "cell_type": "code",
   "execution_count": null,
   "metadata": {},
   "outputs": [],
   "source": [
    "#DATA AUGMENTATION  (OPTIONAL)\n",
    "def augment_folder(folder):\n",
    "    augmented_images = []\n",
    "    images = load_images_from_folder(folder)\n",
    "\n",
    "    for i in images:\n",
    "        augmented_images.append(cv2.flip(i, 1))\n",
    "        augmented_images.append(cv2.flip(i, 0))\n",
    "        augmented_images.append(cv2.flip(i, -1))\n",
    "        rotate90 = imrotate(i,90)\n",
    "        rotate180 = imrotate(i,180)\n",
    "        rotate270 = imrotate(i,270)\n",
    "        augmented_images.append(cv2.flip(rotate90, 1))\n",
    "        augmented_images.append(cv2.flip(rotate180, 0))\n",
    "        augmented_images.append(cv2.flip(rotate270, -1))\n",
    "        augmented_images.append(rotate90)\n",
    "        augmented_images.append(rotate180)\n",
    "        augmented_images.append(rotate270)\n",
    "    \n",
    "    return augmented_images    "
   ]
  },
  {
   "cell_type": "code",
   "execution_count": null,
   "metadata": {},
   "outputs": [],
   "source": [
    "print('LOAD FROM DISK...........')\n",
    "\n",
    "Anomaly = load_images_from_folder(imgDirAnom)\n",
    "Normal = load_images_from_folder(imgDirNorm)\n",
    "\n",
    "print('DISK LOAD COMPLETE!')\n",
    "\n",
    "print('NORMAL IMAGES : ' , len(Normal))\n",
    "print('ANOMALOUS IMAGES : ' , len(Anomaly))\n",
    "\n",
    "print('IMAGE AUGMENT')\n",
    "augmented_images = augment_folder(imgDirAnom)\n",
    "Anomaly = Anomaly + augmented_images\n",
    "print('IMAGE AUGMENT COMPLETE')\n",
    "\n",
    "print('NORMAL IMAGES : ' , len(Normal))\n",
    "print('ANOMALOUS IMAGES : ' , len(Anomaly))\n",
    "\n",
    "print('DATA SHUFFLE')\n",
    "Anomaly=random.shuffle(Anomaly)\n",
    "Normal=random.shuffle(Normal)\n",
    "print('SHUFFLE COMPLETE')\n",
    "\n",
    "train_images=[]\n",
    "train_labels=[]\n",
    "test_images=[] \n",
    "test_labels=[]\n",
    "\n",
    "print('LABLE CREATION')\n",
    "\n",
    "ratio = len(Normal)//len(Anomaly)\n",
    "\n",
    "i=0\n",
    "j=0\n",
    "\n",
    "while(i<len(Normal) and j<len(Anomaly)):\n",
    "    \n",
    "    if i%ratio:\n",
    "        if (Normal[i].shape[0]==512):\n",
    "            Normal[i] = cv2.resize(Normal[i]  , (1024 , 1024))  \n",
    "        train_images.append(np.reshape(Normal[i],(1024,1024,1)))\n",
    "        train_labels.append([0])\n",
    "\n",
    "    if not i%ratio:\n",
    "        if (Anomaly[j].shape[0]==512):\n",
    "            Anomaly[j] = cv2.resize(Anomaly[j]  , (1024 , 1024))            \n",
    "        train_images.append(np.reshape(Anomaly[j],(1024 , 1024 , 1)))\n",
    "        train_labels.append([1])\n",
    "        j+=1\n",
    "        if (Normal[i].shape[0]==512):\n",
    "            Normal[i] = cv2.resize(Normal[i]  , (1024 , 1024)) \n",
    "        train_images.append(np.reshape(Normal[i],(1024 , 1024 , 1)))\n",
    "        train_labels.append([0])\n",
    "        \n",
    "\n",
    "    i+=1\n",
    "print('LABELING COMPLETE')\n",
    "\n",
    "class_names = ['Clean', 'Anomaly Present']"
   ]
  },
  {
   "cell_type": "code",
   "execution_count": null,
   "metadata": {},
   "outputs": [],
   "source": [
    "train_images=np.array(train_images)/255.0\n",
    "#train_labels=np.array(train_labels)/255.0\n",
    "test_images=np.array(test_images)/255.0 \n",
    "#test_labels=np.array(test_labels)/255.0"
   ]
  },
  {
   "cell_type": "code",
   "execution_count": null,
   "metadata": {},
   "outputs": [],
   "source": [
    "#(train_images2, train_labels2), (test_images2, test_labels2) = datasets.cifar10.load_data()\n",
    "#print ((train_images2[0]).shape)\n",
    "#print (type(train_images2))\n",
    "# Normalize pixel values to be between 0 and 1\n",
    "#print(train_images2.shape)\n",
    "#print(train_labels2.shape)\n",
    "\n",
    "#train_images2, test_images2 = train_images2 / 255.0, test_images2 / 255.0\n"
   ]
  },
  {
   "cell_type": "code",
   "execution_count": null,
   "metadata": {},
   "outputs": [],
   "source": [
    "test_images=train_images[2200:len(train_images)]\n",
    "train_images=train_images[0:2200]\n",
    "\n",
    "test_labels=train_labels[2200:len(train_labels)]\n",
    "train_labels=train_labels[0:2200]\n",
    "\n",
    "print((train_images[0]).shape)\n",
    "print(type(train_images))\n",
    "print(np.array(train_images).shape)\n",
    "print(np.array(train_labels).shape)\n",
    "print(len(test_images))\n",
    "print(len(test_labels))"
   ]
  },
  {
   "cell_type": "code",
   "execution_count": null,
   "metadata": {},
   "outputs": [],
   "source": [
    "'''class_names = ['airplane', 'automobile', 'bird', 'cat', 'deer',\n",
    "               'dog', 'frog', 'horse', 'ship', 'truck']\n",
    "\n",
    "plt.figure(figsize=(10,10))\n",
    "for i in range(25):\n",
    "    plt.subplot(5,5,i+1)\n",
    "    plt.xticks([])\n",
    "    plt.yticks([])\n",
    "    plt.grid(False)\n",
    "    plt.imshow(train_images[i], cmap=plt.cm.binary)\n",
    "    # The CIFAR labels happen to be arrays, \n",
    "    # which is why you need the extra index\n",
    "    plt.xlabel(class_names[train_labels[i][0]])\n",
    "plt.show()'''"
   ]
  },
  {
   "cell_type": "code",
   "execution_count": 3,
   "metadata": {},
   "outputs": [
    {
     "name": "stdout",
     "output_type": "stream",
     "text": [
      "Model: \"sequential_1\"\n",
      "_________________________________________________________________\n",
      "Layer (type)                 Output Shape              Param #   \n",
      "=================================================================\n",
      "conv2d_4 (Conv2D)            (None, 1023, 1023, 64)    320       \n",
      "_________________________________________________________________\n",
      "max_pooling2d_3 (MaxPooling2 (None, 511, 511, 64)      0         \n",
      "_________________________________________________________________\n",
      "conv2d_5 (Conv2D)            (None, 511, 511, 64)      4160      \n",
      "_________________________________________________________________\n",
      "max_pooling2d_4 (MaxPooling2 (None, 255, 255, 64)      0         \n",
      "_________________________________________________________________\n",
      "conv2d_6 (Conv2D)            (None, 255, 255, 16)      1040      \n",
      "_________________________________________________________________\n",
      "max_pooling2d_5 (MaxPooling2 (None, 127, 127, 16)      0         \n",
      "_________________________________________________________________\n",
      "conv2d_7 (Conv2D)            (None, 127, 127, 16)      272       \n",
      "_________________________________________________________________\n",
      "flatten_1 (Flatten)          (None, 258064)            0         \n",
      "_________________________________________________________________\n",
      "dense_2 (Dense)              (None, 16)                4129040   \n",
      "_________________________________________________________________\n",
      "dense_3 (Dense)              (None, 2)                 34        \n",
      "=================================================================\n",
      "Total params: 4,134,866\n",
      "Trainable params: 4,134,866\n",
      "Non-trainable params: 0\n",
      "_________________________________________________________________\n"
     ]
    }
   ],
   "source": [
    "inputshape = (1024, 1024, 1)\n",
    "model = models.Sequential()\n",
    "model.add(layers.Conv2D(64, (2, 2), activation='relu', input_shape=inputshape))\n",
    "model.add(layers.MaxPooling2D((2, 2)))\n",
    "model.add(layers.Conv2D(64, (1, 1), activation='relu'))\n",
    "model.add(layers.MaxPooling2D((2, 2)))\n",
    "model.add(layers.Conv2D(16, (1, 1), activation='relu'))\n",
    "model.add(layers.MaxPooling2D((2, 2)))\n",
    "model.add(layers.Conv2D(16, (1, 1), activation='relu'))\n",
    "model.add(layers.Flatten())\n",
    "model.add(layers.Dense(16, activation='relu'))\n",
    "model.add(layers.Dense(2))\n",
    "model.summary()"
   ]
  },
  {
   "cell_type": "code",
   "execution_count": null,
   "metadata": {},
   "outputs": [],
   "source": [
    "'''img_file = './model_arch.png'\n",
    "tf.keras.utils.plot_model(model, to_file=img_file, show_shapes=True, show_layer_names=True)'''"
   ]
  },
  {
   "cell_type": "code",
   "execution_count": null,
   "metadata": {},
   "outputs": [],
   "source": [
    "model.compile(optimizer='adam',\n",
    "              loss=tf.keras.losses.SparseCategoricalCrossentropy(from_logits=True),\n",
    "              metrics=['accuracy'])\n",
    "\n",
    "history = model.fit(train_images, train_labels, epochs=10, \n",
    "                    validation_data=(test_images, test_labels))"
   ]
  },
  {
   "cell_type": "code",
   "execution_count": null,
   "metadata": {},
   "outputs": [],
   "source": [
    "'''plt.plot(history.history['accuracy'], label='accuracy')\n",
    "plt.plot(history.history['val_accuracy'], label = 'val_accuracy')\n",
    "plt.xlabel('Epoch')\n",
    "plt.ylabel('Accuracy')\n",
    "plt.ylim([0.5, 1])\n",
    "plt.legend(loc='lower right')\n",
    "\n",
    "test_loss, test_acc = model.evaluate(test_images,  test_labels, verbose=2)'''"
   ]
  },
  {
   "cell_type": "code",
   "execution_count": null,
   "metadata": {},
   "outputs": [],
   "source": [
    "\n"
   ]
  }
 ],
 "metadata": {
  "kernelspec": {
   "display_name": "Python 3",
   "language": "python",
   "name": "python3"
  },
  "language_info": {
   "codemirror_mode": {
    "name": "ipython",
    "version": 3
   },
   "file_extension": ".py",
   "mimetype": "text/x-python",
   "name": "python",
   "nbconvert_exporter": "python",
   "pygments_lexer": "ipython3",
   "version": "3.8.5"
  }
 },
 "nbformat": 4,
 "nbformat_minor": 4
}

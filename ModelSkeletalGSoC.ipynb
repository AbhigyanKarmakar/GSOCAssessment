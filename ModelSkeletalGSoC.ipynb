{
 "cells": [
  {
   "cell_type": "code",
   "execution_count": null,
   "metadata": {},
   "outputs": [],
   "source": [
    "import tensorflow as tf\n",
    "import cv2 \n",
    "import numpy as np\n",
    "from tensorflow.keras import datasets, layers, models\n",
    "import matplotlib.pyplot as plt\n",
    "import os\n",
    "%matplotlib inline"
   ]
  },
  {
   "cell_type": "code",
   "execution_count": null,
   "metadata": {},
   "outputs": [],
   "source": [
    "##Load Image Create Dataset"
   ]
  },
  {
   "cell_type": "code",
   "execution_count": null,
   "metadata": {},
   "outputs": [],
   "source": [
    "%%bash\n",
    "#sh ./*.sh\n",
    "\n",
    "#INSERT HELPER SCRIPTS HERE"
   ]
  },
  {
   "cell_type": "code",
   "execution_count": null,
   "metadata": {},
   "outputs": [],
   "source": [
    "imgDirNorm = 'E:/Normal Train Data/'\n",
    "imgDirAnom = 'E:/Anomaly Train Data/'"
   ]
  },
  {
   "cell_type": "code",
   "execution_count": null,
   "metadata": {},
   "outputs": [],
   "source": [
    "def load_images_from_folder(folder):\n",
    "    images = []\n",
    "    for filename in os.listdir(folder):\n",
    "        img = cv2.imread(os.path.join(folder,filename),0)\n",
    "        if img is not None:\n",
    "            images.append(img)\n",
    "    return images"
   ]
  },
  {
   "cell_type": "code",
   "execution_count": null,
   "metadata": {},
   "outputs": [],
   "source": [
    "def imrotate(img , angle , scale=1):\n",
    "    (h, w) = img.shape\n",
    "    center = (w / 2, h / 2)\n",
    "    M = cv2.getRotationMatrix2D(center, angle, scale)\n",
    "    return cv2.warpAffine(img, M, (h, w))"
   ]
  },
  {
   "cell_type": "code",
   "execution_count": null,
   "metadata": {},
   "outputs": [],
   "source": [
    "#DATA AUGMENTATION  (OPTIONAL)\n",
    "def augment_folder(folder):\n",
    "    augmented_images = []\n",
    "    images = load_images_from_folder(folder)\n",
    "\n",
    "    for i in images:\n",
    "        augmented_images.append(cv2.flip(i, 1))\n",
    "        augmented_images.append(cv2.flip(i, 0))\n",
    "        augmented_images.append(cv2.flip(i, -1))\n",
    "        rotate90 = imrotate(i,90)\n",
    "        rotate180 = imrotate(i,180)\n",
    "        rotate270 = imrotate(i,270)\n",
    "        augmented_images.append(cv2.flip(rotate90, 1))\n",
    "        augmented_images.append(cv2.flip(rotate180, 0))\n",
    "        augmented_images.append(cv2.flip(rotate270, -1))\n",
    "        augmented_images.append(rotate90)\n",
    "        augmented_images.append(rotate180)\n",
    "        augmented_images.append(rotate270)\n",
    "    \n",
    "    return augmented_images    "
   ]
  },
  {
   "cell_type": "code",
   "execution_count": null,
   "metadata": {},
   "outputs": [],
   "source": [
    "Anomaly = load_images_from_folder(imgDirAnom)\n",
    "Normal = load_images_from_folder(imgDirNorm)\n",
    "\n",
    "train_images=[]\n",
    "train_labels=[]\n",
    "test_images=[] \n",
    "test_labels=[]\n",
    "\n",
    "ratio = len(Normal)//len(Anomaly)\n",
    "\n",
    "i=0\n",
    "j=0\n",
    "\n",
    "while(i<len(Normal) and j<len(Anomaly)):\n",
    "    \n",
    "    if i%ratio:\n",
    "        if (Normal[i].shape[0]==1024):\n",
    "            Normal[i] = cv2.resize(Normal[i]  , (512 , 512))  \n",
    "        train_images.append(np.reshape(Normal[i],(512,512,1)))\n",
    "        train_labels.append([0])\n",
    "\n",
    "    if not i%ratio:\n",
    "        if (Anomaly[j].shape[0]==1024):\n",
    "            Anomaly[j] = cv2.resize(Anomaly[j]  , (512 , 512))            \n",
    "        train_images.append(np.reshape(Anomaly[j],(512 , 512 , 1)))\n",
    "        train_labels.append([1])\n",
    "        j+=1\n",
    "        if (Normal[i].shape[0]==1024):\n",
    "            Normal[i] = cv2.resize(Normal[i]  , (512 , 512)) \n",
    "        train_images.append(np.reshape(Normal[i],(512 , 512,1)))\n",
    "        train_labels.append([0])\n",
    "        \n",
    "\n",
    "    i+=1\n",
    "\n",
    "print(len(Normal))\n",
    "print(len(Anomaly))\n",
    "\n",
    "class_names = ['Clean', 'Anomaly Present']"
   ]
  },
  {
   "cell_type": "code",
   "execution_count": null,
   "metadata": {},
   "outputs": [],
   "source": [
    "augmented_images = augment_folder(imgDirAnom)\n",
    "Anomaly = Anomaly + augmented_images\n",
    "\n",
    "print(len(Anomaly))"
   ]
  },
  {
   "cell_type": "code",
   "execution_count": null,
   "metadata": {},
   "outputs": [],
   "source": [
    "train_images=np.array(train_images)/255.0\n",
    "train_labels=np.array(train_labels)/255.0\n",
    "test_images=np.array(test_images)/255.0 \n",
    "test_labels=np.array(test_labels)/255.0"
   ]
  },
  {
   "cell_type": "code",
   "execution_count": null,
   "metadata": {},
   "outputs": [],
   "source": [
    "#(train_images2, train_labels2), (test_images2, test_labels2) = datasets.cifar10.load_data()\n",
    "#print ((train_images2[0]).shape)\n",
    "#print (type(train_images2))\n",
    "# Normalize pixel values to be between 0 and 1\n",
    "#print(train_images2.shape)\n",
    "#print(train_labels2.shape)\n",
    "\n",
    "#train_images2, test_images2 = train_images2 / 255.0, test_images2 / 255.0\n"
   ]
  },
  {
   "cell_type": "code",
   "execution_count": null,
   "metadata": {},
   "outputs": [],
   "source": [
    "test_images=train_images[0:100]\n",
    "test_labels=train_labels[0:100]\n",
    "\n",
    "print((train_images[0]).shape)\n",
    "print(type(train_images))\n",
    "print(np.array(train_images).shape)\n",
    "print(np.array(train_labels).shape)\n",
    "print(len(test_images))\n",
    "print(len(test_labels))"
   ]
  },
  {
   "cell_type": "code",
   "execution_count": null,
   "metadata": {},
   "outputs": [],
   "source": [
    "'''class_names = ['airplane', 'automobile', 'bird', 'cat', 'deer',\n",
    "               'dog', 'frog', 'horse', 'ship', 'truck']\n",
    "\n",
    "plt.figure(figsize=(10,10))\n",
    "for i in range(25):\n",
    "    plt.subplot(5,5,i+1)\n",
    "    plt.xticks([])\n",
    "    plt.yticks([])\n",
    "    plt.grid(False)\n",
    "    plt.imshow(train_images[i], cmap=plt.cm.binary)\n",
    "    # The CIFAR labels happen to be arrays, \n",
    "    # which is why you need the extra index\n",
    "    plt.xlabel(class_names[train_labels[i][0]])\n",
    "plt.show()'''"
   ]
  },
  {
   "cell_type": "code",
   "execution_count": null,
   "metadata": {},
   "outputs": [],
   "source": [
    "inputshape = (512, 512, 1)\n",
    "model = models.Sequential()\n",
    "model.add(layers.Conv2D(64, (2, 2), activation='relu', input_shape=inputshape))\n",
    "model.add(layers.MaxPooling2D((2, 2)))\n",
    "model.add(layers.Conv2D(32, (1, 1), activation='relu'))\n",
    "model.add(layers.MaxPooling2D((2, 2)))\n",
    "model.add(layers.Conv2D(16, (1, 1), activation='relu'))\n",
    "model.add(layers.MaxPooling2D((5, 5)))\n",
    "model.add(layers.Conv2D(16, (1, 1), activation='relu'))\n",
    "model.add(layers.Flatten())\n",
    "model.add(layers.Dense(16, activation='relu'))\n",
    "model.add(layers.Dense(2))\n",
    "model.summary()"
   ]
  },
  {
   "cell_type": "code",
   "execution_count": null,
   "metadata": {},
   "outputs": [],
   "source": [
    "img_file = './model_arch.png'\n",
    "tf.keras.utils.plot_model(model, to_file=img_file, show_shapes=True, show_layer_names=True)"
   ]
  },
  {
   "cell_type": "code",
   "execution_count": null,
   "metadata": {},
   "outputs": [],
   "source": [
    "model.compile(optimizer='adam',\n",
    "              loss=tf.keras.losses.SparseCategoricalCrossentropy(from_logits=True),\n",
    "              metrics=['accuracy'])\n",
    "\n",
    "history = model.fit(train_images, train_labels, epochs=50, \n",
    "                    validation_data=(test_images, test_labels))"
   ]
  },
  {
   "cell_type": "code",
   "execution_count": null,
   "metadata": {},
   "outputs": [],
   "source": [
    "plt.plot(history.history['accuracy'], label='accuracy')\n",
    "plt.plot(history.history['val_accuracy'], label = 'val_accuracy')\n",
    "plt.xlabel('Epoch')\n",
    "plt.ylabel('Accuracy')\n",
    "plt.ylim([0.5, 1])\n",
    "plt.legend(loc='lower right')\n",
    "\n",
    "test_loss, test_acc = model.evaluate(test_images,  test_labels, verbose=2)"
   ]
  },
  {
   "cell_type": "code",
   "execution_count": null,
   "metadata": {},
   "outputs": [],
   "source": []
  }
 ],
 "metadata": {
  "kernelspec": {
   "display_name": "Python 3",
   "language": "python",
   "name": "python3"
  },
  "language_info": {
   "codemirror_mode": {
    "name": "ipython",
    "version": 3
   },
   "file_extension": ".py",
   "mimetype": "text/x-python",
   "name": "python",
   "nbconvert_exporter": "python",
   "pygments_lexer": "ipython3",
   "version": "3.8.5"
  }
 },
 "nbformat": 4,
 "nbformat_minor": 4
}
